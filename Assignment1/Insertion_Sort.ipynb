{
 "cells": [
  {
   "cell_type": "code",
   "execution_count": 7,
   "metadata": {},
   "outputs": [],
   "source": [
    "\n",
    "def insertion_sort(A): \n",
    "    steps=0\n",
    "    for j in range(1,len(A)):\n",
    "        key=A[j]\n",
    "        i=j-1\n",
    "        steps+=2\n",
    "        while i>=0 and A[i]>key:\n",
    "            A[i+1]=A[i]\n",
    "            i=i-1\n",
    "            steps+=2\n",
    "        A[i+1]=key\n",
    "        steps+=1\n",
    "    return steps"
   ]
  },
  {
   "cell_type": "code",
   "execution_count": 9,
   "metadata": {},
   "outputs": [
    {
     "name": "stdout",
     "output_type": "stream",
     "text": [
      "[1, 2, 2, 3, 4, 5, 6]\n"
     ]
    }
   ],
   "source": []
  },
  {
   "cell_type": "code",
   "execution_count": 1,
   "metadata": {},
   "outputs": [
    {
     "ename": "ModuleNotFoundError",
     "evalue": "No module named 'matplotlib'",
     "output_type": "error",
     "traceback": [
      "\u001b[1;31m---------------------------------------------------------------------------\u001b[0m",
      "\u001b[1;31mModuleNotFoundError\u001b[0m                       Traceback (most recent call last)",
      "\u001b[1;32m~\\AppData\\Local\\Temp/ipykernel_25040/3977382791.py\u001b[0m in \u001b[0;36m<module>\u001b[1;34m\u001b[0m\n\u001b[1;32m----> 1\u001b[1;33m \u001b[1;32mimport\u001b[0m \u001b[0mmatplotlib\u001b[0m\u001b[1;33m.\u001b[0m\u001b[0mpyplot\u001b[0m \u001b[1;32mas\u001b[0m \u001b[0mplt\u001b[0m\u001b[1;33m\u001b[0m\u001b[1;33m\u001b[0m\u001b[0m\n\u001b[0m\u001b[0;32m      2\u001b[0m \u001b[1;32mimport\u001b[0m \u001b[0mmatplotlib\u001b[0m \u001b[1;32mas\u001b[0m \u001b[0mmpl\u001b[0m\u001b[1;33m\u001b[0m\u001b[1;33m\u001b[0m\u001b[0m\n\u001b[0;32m      3\u001b[0m \u001b[0mmpl\u001b[0m\u001b[1;33m.\u001b[0m\u001b[0mrcParams\u001b[0m\u001b[1;33m[\u001b[0m\u001b[1;34m'figure.figsize'\u001b[0m\u001b[1;33m]\u001b[0m \u001b[1;33m=\u001b[0m \u001b[1;33m[\u001b[0m\u001b[1;36m16\u001b[0m\u001b[1;33m,\u001b[0m \u001b[1;36m4\u001b[0m\u001b[1;33m]\u001b[0m\u001b[1;33m\u001b[0m\u001b[1;33m\u001b[0m\u001b[0m\n\u001b[0;32m      4\u001b[0m \u001b[1;31m#mpl.rcParams({'font.size': 12})\u001b[0m\u001b[1;33m\u001b[0m\u001b[1;33m\u001b[0m\u001b[1;33m\u001b[0m\u001b[0m\n\u001b[0;32m      5\u001b[0m \u001b[1;33m\u001b[0m\u001b[0m\n",
      "\u001b[1;31mModuleNotFoundError\u001b[0m: No module named 'matplotlib'"
     ]
    }
   ],
   "source": [
    "import matplotlib.pyplot as plt\n",
    "import matplotlib as mpl\n",
    "mpl.rcParams['figure.figsize'] = [16,4]\n",
    "#mpl.rcParams.update({'font.size': 12})\n",
    "\n",
    "from IPython.display import clear_output\n",
    "fig, ax = plt.subplots(1, 2)\n",
    "fig.suptitle('Counted steps and Asymptotic running time')\n",
    "\n",
    "\n",
    "B=[5,2,4,6,1,3]\n",
    "points=13 # plotting points\n",
    "x=[]\n",
    "y=[]\n",
    "ref=[]\n",
    "c=[]\n",
    "\n",
    "for i in range(0,points):\n",
    "    clear_output(wait=True)\n",
    "    print(i+1,\"/\", points)\n",
    "    steps=insertion_sort(B) \n",
    "    # double the size of the list to sort\n",
    "    B=B*2\n",
    "    x.append(len(B))\n",
    "    y.append(steps)    \n",
    "    c.append(steps/len(B)**2)# quick and dirty estimation of c--> T(sort)=c.N^2\n",
    "    \n",
    "for v in x:\n",
    "    ref.append([v**2 *c[6]])\n",
    "ax[0].plot(x,y, color=\"red\", label=\"counted steps\")\n",
    "ax[0].plot(x,ref, color=\"green\", label= str(round(c[6],2)) + \".n^2 --> O(n^2)\")\n",
    "ax[0].set_xlabel(\"size of n\")\n",
    "ax[0].set_ylabel(\"computation steps\")\n",
    "ax[0].legend()\n",
    "\n",
    "ax[1].scatter(x,c, label= \"approximation of c\" )\n",
    "ax[1].set_xlabel(\"size of n\")\n",
    "ax[1].set_ylabel(\"c factor\")\n",
    "    \n",
    "    "
   ]
  },
  {
   "cell_type": "markdown",
   "metadata": {},
   "source": []
  }
 ],
 "metadata": {
  "kernelspec": {
   "display_name": "Python 3",
   "language": "python",
   "name": "python3"
  },
  "language_info": {
   "codemirror_mode": {
    "name": "ipython",
    "version": 3
   },
   "file_extension": ".py",
   "mimetype": "text/x-python",
   "name": "python",
   "nbconvert_exporter": "python",
   "pygments_lexer": "ipython3",
   "version": "3.9.1"
  }
 },
 "nbformat": 4,
 "nbformat_minor": 2
}
