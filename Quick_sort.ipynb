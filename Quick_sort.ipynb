{
 "cells": [
  {
   "cell_type": "code",
   "execution_count": null,
   "metadata": {},
   "outputs": [],
   "source": [
    "#Lecture slides Quick sort\n",
    "def quicksort(A, p, r, steps_count):\n",
    "    if p < r:\n",
    "        q = partition(A, p, r, steps_count)\n",
    "        quicksort(A, p, q - 1, steps_count)\n",
    "        quicksort(A, q + 1, r, steps_count)\n",
    "\n",
    "def partition(A, p, r, steps_count):\n",
    "    x = A[r]\n",
    "    i = p - 1 \n",
    "    for j in range(p, r):\n",
    "        if A[j] <= x:\n",
    "            i = i + 1\n",
    "            A[i], A[j] = A[j], A[i]\n",
    "        steps_count[0] += 1\n",
    "    A[r], A[i + 1] = A[i + 1], A[r]\n",
    "    steps_count[0] += 1\n",
    "    return i + 1"
   ]
  },
  {
   "cell_type": "code",
   "execution_count": null,
   "metadata": {},
   "outputs": [],
   "source": [
    "import matplotlib.pyplot as plt\n",
    "import numpy as np\n",
    "\n",
    "fig, ax = plt.subplots(1, 2)\n",
    "fig.suptitle('Counted steps and Asymptotic running time (Quick Sort)')\n",
    "\n",
    "B = [5, 2, 4, 6, 1, 3, 7, 1, 5]\n",
    "points = 10\n",
    "x = []\n",
    "y = []\n",
    "ref = []\n",
    "c=[]\n",
    "\n",
    "# Assume n log(n) as the asymptotic running time\n",
    "# Using a more accurate model for asymptotic running time\n",
    "log_n = lambda x: x * np.log2(x)\n",
    "\n",
    "for i in range(0, points):\n",
    "    clear_output(wait=True)\n",
    "    print(i + 1, \"/\", points)\n",
    "    steps_count = [0]\n",
    "    quicksort(B, 0, len(B) - 1, steps_count)\n",
    "    # double the size of the list to sort\n",
    "    B = B * 2\n",
    "    x.append(len(B))\n",
    "    y.append(steps_count[0])\n",
    "    c.append(steps_count[0] / log_n(len(B)))\n",
    "\n",
    "for v in x:\n",
    "    ref.append([v * np.log2(v) * c[9]])\n",
    "\n",
    "ax[0].plot(x, y, color=\"red\", label=\"Counted Steps (Quick Sort)\")\n",
    "ax[0].plot(x, ref, color=\"green\", label= str(round(c[6],2)) + \"n log n --> O(n log n)\")\n",
    "ax[0].set_xlabel(\"Size of n\")\n",
    "ax[0].set_ylabel(\"Computation Steps\")\n",
    "ax[0].legend()\n",
    "\n",
    "ax[1].scatter(x, c, label=\"Approximation of c\")\n",
    "ax[1].set_xlabel(\"Size of n\")\n",
    "ax[1].set_ylabel(\"c Factor\")\n",
    "plt.show()"
   ]
  }
 ],
 "metadata": {
  "language_info": {
   "name": "python"
  }
 },
 "nbformat": 4,
 "nbformat_minor": 2
}
