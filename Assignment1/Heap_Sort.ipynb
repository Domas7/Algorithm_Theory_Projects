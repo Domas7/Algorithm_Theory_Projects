{
 "cells": [
  {
   "cell_type": "code",
   "execution_count": 1,
   "metadata": {},
   "outputs": [],
   "source": [
    "# Following the steps from DAT600 Heap sort lecture\n",
    "def max_heapify(A, n, i, steps_count):\n",
    "    largest_root = i  # Initialize largest_root as root\n",
    "    Left = 2 * i + 1     \n",
    "    Right = 2 * i + 2     \n",
    " \n",
    "\n",
    "    if Left < n and A[Left] > A[largest_root]:\n",
    "        largest_root = Left\n",
    "        steps_count[0] += 1\n",
    " \n",
    "\n",
    "    if Right < n and A[Right] > A[largest_root]:\n",
    "        largest_root = Right\n",
    "        steps_count[0] += 1\n",
    "\n",
    "    if largest_root != i:\n",
    "        A[i], A[largest_root] = A[largest_root], A[i] # Exchange A[i] and A[largest_root]\n",
    "        steps_count[0] += 1\n",
    "\n",
    "        max_heapify(A, n, largest_root, steps_count)\n",
    " \n",
    "# The main function to sort an Aay of given size\n",
    " \n",
    " \n",
    "def heapSort(A):\n",
    "    n = len(A)\n",
    "    steps_count = [0]\n",
    "\n",
    "    # Build a maxheap.\n",
    "    for i in range(n//2 - 1, -1, -1): #This range is to make sure that the last parent node is included\n",
    "        max_heapify(A, n, i, steps_count)\n",
    " \n",
    "    # One by one extract elements\n",
    "    for i in range(n-1, 0, -1):\n",
    "        A[i], A[0] = A[0], A[i]  # swap\n",
    "        max_heapify(A, i, 0, steps_count)\n",
    "\n",
    "    return steps_count[0]\n",
    " "
   ]
  },
  {
   "cell_type": "code",
   "execution_count": 3,
   "metadata": {},
   "outputs": [
    {
     "ename": "IndexError",
     "evalue": "list index out of range",
     "output_type": "error",
     "traceback": [
      "\u001b[1;31m---------------------------------------------------------------------------\u001b[0m",
      "\u001b[1;31mIndexError\u001b[0m                                Traceback (most recent call last)",
      "\u001b[1;32m~\\AppData\\Local\\Temp/ipykernel_24512/887558907.py\u001b[0m in \u001b[0;36m<module>\u001b[1;34m\u001b[0m\n\u001b[0;32m     15\u001b[0m \u001b[1;31m# Example usage with different input sizes\u001b[0m\u001b[1;33m\u001b[0m\u001b[1;33m\u001b[0m\u001b[1;33m\u001b[0m\u001b[0m\n\u001b[0;32m     16\u001b[0m \u001b[0minput_sizes\u001b[0m \u001b[1;33m=\u001b[0m \u001b[1;33m[\u001b[0m\u001b[1;36m10\u001b[0m\u001b[1;33m,\u001b[0m \u001b[1;36m50\u001b[0m\u001b[1;33m,\u001b[0m \u001b[1;36m100\u001b[0m\u001b[1;33m,\u001b[0m \u001b[1;36m200\u001b[0m\u001b[1;33m,\u001b[0m \u001b[1;36m500\u001b[0m\u001b[1;33m]\u001b[0m\u001b[1;33m\u001b[0m\u001b[1;33m\u001b[0m\u001b[0m\n\u001b[1;32m---> 17\u001b[1;33m \u001b[0mplot_heap_sort_steps\u001b[0m\u001b[1;33m(\u001b[0m\u001b[0minput_sizes\u001b[0m\u001b[1;33m)\u001b[0m\u001b[1;33m\u001b[0m\u001b[1;33m\u001b[0m\u001b[0m\n\u001b[0m",
      "\u001b[1;32m~\\AppData\\Local\\Temp/ipykernel_24512/887558907.py\u001b[0m in \u001b[0;36mplot_heap_sort_steps\u001b[1;34m(input_sizes)\u001b[0m\n\u001b[0;32m      3\u001b[0m     \u001b[1;32mfor\u001b[0m \u001b[0msize\u001b[0m \u001b[1;32min\u001b[0m \u001b[0minput_sizes\u001b[0m\u001b[1;33m:\u001b[0m\u001b[1;33m\u001b[0m\u001b[1;33m\u001b[0m\u001b[0m\n\u001b[0;32m      4\u001b[0m         \u001b[0minput_array\u001b[0m \u001b[1;33m=\u001b[0m \u001b[0mlist\u001b[0m\u001b[1;33m(\u001b[0m\u001b[0mrange\u001b[0m\u001b[1;33m(\u001b[0m\u001b[0msize\u001b[0m\u001b[1;33m,\u001b[0m \u001b[1;36m0\u001b[0m\u001b[1;33m,\u001b[0m \u001b[1;33m-\u001b[0m\u001b[1;36m1\u001b[0m\u001b[1;33m)\u001b[0m\u001b[1;33m)\u001b[0m  \u001b[1;31m# Reverse sorted array for worst-case scenarios\u001b[0m\u001b[1;33m\u001b[0m\u001b[1;33m\u001b[0m\u001b[0m\n\u001b[1;32m----> 5\u001b[1;33m         \u001b[0msteps_count\u001b[0m \u001b[1;33m=\u001b[0m \u001b[0mheapSort\u001b[0m\u001b[1;33m(\u001b[0m\u001b[0minput_array\u001b[0m\u001b[1;33m.\u001b[0m\u001b[0mcopy\u001b[0m\u001b[1;33m(\u001b[0m\u001b[1;33m)\u001b[0m\u001b[1;33m)\u001b[0m\u001b[1;33m\u001b[0m\u001b[1;33m\u001b[0m\u001b[0m\n\u001b[0m\u001b[0;32m      6\u001b[0m         \u001b[0msteps_data\u001b[0m\u001b[1;33m.\u001b[0m\u001b[0mappend\u001b[0m\u001b[1;33m(\u001b[0m\u001b[0msteps_count\u001b[0m\u001b[1;33m)\u001b[0m\u001b[1;33m\u001b[0m\u001b[1;33m\u001b[0m\u001b[0m\n\u001b[0;32m      7\u001b[0m \u001b[1;33m\u001b[0m\u001b[0m\n",
      "\u001b[1;32m~\\AppData\\Local\\Temp/ipykernel_24512/2044686367.py\u001b[0m in \u001b[0;36mheapSort\u001b[1;34m(A)\u001b[0m\n\u001b[0;32m     30\u001b[0m     \u001b[1;31m# Build a maxheap.\u001b[0m\u001b[1;33m\u001b[0m\u001b[1;33m\u001b[0m\u001b[1;33m\u001b[0m\u001b[0m\n\u001b[0;32m     31\u001b[0m     \u001b[1;32mfor\u001b[0m \u001b[0mi\u001b[0m \u001b[1;32min\u001b[0m \u001b[0mrange\u001b[0m\u001b[1;33m(\u001b[0m\u001b[0mn\u001b[0m\u001b[1;33m//\u001b[0m\u001b[1;36m2\u001b[0m \u001b[1;33m-\u001b[0m \u001b[1;36m1\u001b[0m\u001b[1;33m,\u001b[0m \u001b[1;33m-\u001b[0m\u001b[1;36m1\u001b[0m\u001b[1;33m,\u001b[0m \u001b[1;33m-\u001b[0m\u001b[1;36m1\u001b[0m\u001b[1;33m)\u001b[0m\u001b[1;33m:\u001b[0m \u001b[1;31m#This range is to make sure that the last parent node is included\u001b[0m\u001b[1;33m\u001b[0m\u001b[1;33m\u001b[0m\u001b[0m\n\u001b[1;32m---> 32\u001b[1;33m         \u001b[0mmax_heapify\u001b[0m\u001b[1;33m(\u001b[0m\u001b[0mA\u001b[0m\u001b[1;33m,\u001b[0m \u001b[0mn\u001b[0m\u001b[1;33m,\u001b[0m \u001b[0mi\u001b[0m\u001b[1;33m,\u001b[0m \u001b[0msteps_count\u001b[0m\u001b[1;33m)\u001b[0m\u001b[1;33m\u001b[0m\u001b[1;33m\u001b[0m\u001b[0m\n\u001b[0m\u001b[0;32m     33\u001b[0m \u001b[1;33m\u001b[0m\u001b[0m\n\u001b[0;32m     34\u001b[0m     \u001b[1;31m# One by one extract elements\u001b[0m\u001b[1;33m\u001b[0m\u001b[1;33m\u001b[0m\u001b[1;33m\u001b[0m\u001b[0m\n",
      "\u001b[1;32m~\\AppData\\Local\\Temp/ipykernel_24512/2044686367.py\u001b[0m in \u001b[0;36mmax_heapify\u001b[1;34m(A, n, i, steps_count)\u001b[0m\n\u001b[0;32m     11\u001b[0m \u001b[1;33m\u001b[0m\u001b[0m\n\u001b[0;32m     12\u001b[0m \u001b[1;33m\u001b[0m\u001b[0m\n\u001b[1;32m---> 13\u001b[1;33m     \u001b[1;32mif\u001b[0m \u001b[0mRight\u001b[0m \u001b[1;33m<=\u001b[0m \u001b[0mn\u001b[0m \u001b[1;32mand\u001b[0m \u001b[0mA\u001b[0m\u001b[1;33m[\u001b[0m\u001b[0mRight\u001b[0m\u001b[1;33m]\u001b[0m \u001b[1;33m>\u001b[0m \u001b[0mA\u001b[0m\u001b[1;33m[\u001b[0m\u001b[0mlargest_root\u001b[0m\u001b[1;33m]\u001b[0m\u001b[1;33m:\u001b[0m\u001b[1;33m\u001b[0m\u001b[1;33m\u001b[0m\u001b[0m\n\u001b[0m\u001b[0;32m     14\u001b[0m         \u001b[0mlargest_root\u001b[0m \u001b[1;33m=\u001b[0m \u001b[0mRight\u001b[0m\u001b[1;33m\u001b[0m\u001b[1;33m\u001b[0m\u001b[0m\n\u001b[0;32m     15\u001b[0m         \u001b[0msteps_count\u001b[0m\u001b[1;33m[\u001b[0m\u001b[1;36m0\u001b[0m\u001b[1;33m]\u001b[0m \u001b[1;33m+=\u001b[0m \u001b[1;36m1\u001b[0m\u001b[1;33m\u001b[0m\u001b[1;33m\u001b[0m\u001b[0m\n",
      "\u001b[1;31mIndexError\u001b[0m: list index out of range"
     ]
    }
   ],
   "source": [
    "import matplotlib.pyplot as plt\n",
    "import numpy as np\n",
    "# Plotting code\n",
    "fig, ax = plt.subplots(1, 2)\n",
    "fig.suptitle('Counted Steps and Asymptotic Running Time')\n",
    "\n",
    "B = [5, 2, 4, 6, 1, 3, 7, 3]\n",
    "points = 13  # plotting points\n",
    "x = []\n",
    "y = []\n",
    "ref = []\n",
    "c = []\n",
    "\n",
    "# Using a more accurate model for asymptotic running time\n",
    "log_n = lambda x: x * np.log2(x)\n",
    "\n",
    "for i in range(0, points):\n",
    "    print(i + 1, \"/\", points)\n",
    "    steps = heapSort(B)\n",
    "    B = B * 2\n",
    "    x.append(len(B))\n",
    "    y.append(steps)\n",
    "    c.append(steps / log_n(len(B)))  # Adjusted the model to n log n\n",
    "\n",
    "for v in x:\n",
    "    ref.append([v * np.log2(v) * c[10]])\n",
    "\n",
    "ax[0].plot(x, y, color=\"red\", label=\"Counted Steps (Heap Sort)\")\n",
    "ax[0].plot(x, ref, color=\"green\", label= str(round(c[10],2)) + \"n log n --> O(n log n)\")\n",
    "ax[0].set_xlabel(\"Size of n\")\n",
    "ax[0].set_ylabel(\"Computation Steps\")\n",
    "ax[0].legend()\n",
    "\n",
    "ax[1].scatter(x, c, label=\"Approximation of c\")\n",
    "ax[1].set_xlabel(\"Size of n\")\n",
    "ax[1].set_ylabel(\"c Factor\")\n",
    "\n",
    "plt.show()"
   ]
  }
 ],
 "metadata": {
  "kernelspec": {
   "display_name": "Python 3",
   "language": "python",
   "name": "python3"
  },
  "language_info": {
   "codemirror_mode": {
    "name": "ipython",
    "version": 3
   },
   "file_extension": ".py",
   "mimetype": "text/x-python",
   "name": "python",
   "nbconvert_exporter": "python",
   "pygments_lexer": "ipython3",
   "version": "3.9.1"
  }
 },
 "nbformat": 4,
 "nbformat_minor": 2
}
